{
 "cells": [
  {
   "cell_type": "code",
   "execution_count": 1,
   "metadata": {},
   "outputs": [],
   "source": [
    "#importing libraries"
   ]
  },
  {
   "cell_type": "code",
   "execution_count": 4,
   "metadata": {},
   "outputs": [],
   "source": [
    "import numpy as np\n",
    "import pandas as pd\n",
    "from numpy import mean\n",
    "from numpy import std\n",
    "from numpy.random import randn\n",
    "from numpy.random import seed\n",
    "import matplotlib.pyplot as plt\n"
   ]
  },
  {
   "cell_type": "code",
   "execution_count": 5,
   "metadata": {},
   "outputs": [],
   "source": [
    "#fix the random numbers by using seed"
   ]
  },
  {
   "cell_type": "code",
   "execution_count": 6,
   "metadata": {},
   "outputs": [],
   "source": [
    "seed(1)"
   ]
  },
  {
   "cell_type": "code",
   "execution_count": 7,
   "metadata": {},
   "outputs": [
    {
     "name": "stdout",
     "output_type": "stream",
     "text": [
      "[132.48690727  87.76487173  89.43656495  78.54062756 117.30815259\n",
      "  53.96922606 134.89623528  84.77586198 106.38078192  95.01259249\n",
      " 129.24215874  58.79718581  93.55165592  92.31891291 122.67538885\n",
      "  78.00217465  96.55143585  82.44283164 100.84427493 111.65630427\n",
      "  77.98761646 122.8944742  118.03181441 110.04988678 118.01711899\n",
      "  86.32544282  97.54219549  81.28461131  94.64223841 110.60710933\n",
      "  86.16678497  92.06492946  86.256546    83.09588717  86.57507738\n",
      "  99.74670802  77.65379303 104.68831396 133.19604354 114.84088321\n",
      "  96.16328895  82.24742072  85.05683412 133.84909202 101.0161551\n",
      "  87.26008707 103.81830969 142.00510273 102.40317905 112.34406219\n",
      " 106.0034064   92.95500307  77.14963604  93.01314555  95.82211533\n",
      " 111.73246382 116.77966828 118.62204163 105.71174651 117.70282329\n",
      "  84.91204118 125.0573631  110.25859641  94.0381433  109.77036293\n",
      "  98.48856574 122.63258775 130.39633633 143.71150813  72.07007329\n",
      "  71.11772389  89.91068274 103.20074139 117.52337842 106.31269894\n",
      "  59.55597568  93.87591975 116.55949285 104.60189471 115.24022361\n",
      "  95.55343715  95.98483862 103.73122782 108.20103294 103.9659944\n",
      " 102.38017292  86.58675427 107.55127573 102.43642542 122.58967816\n",
      " 123.9783576  103.70312835  92.494301    87.22539185 108.46988708\n",
      " 101.54680137  93.12292649 100.87193714  87.59998312 113.96064068]\n"
     ]
    }
   ],
   "source": [
    "data = 20*randn(100)+100\n",
    "print(data)"
   ]
  },
  {
   "cell_type": "code",
   "execution_count": 11,
   "metadata": {},
   "outputs": [
    {
     "data": {
      "text/plain": [
       "array([179.03703517, 135.4564743 , 111.50571495, 147.91591569,\n",
       "       170.97147273,  93.52333224, 205.40796971, 140.63248198,\n",
       "       160.67604332, 138.94260851, 180.30438598,  93.54038265,\n",
       "       151.50191686, 138.57452972, 174.01587081, 140.02272328,\n",
       "       149.39891696, 135.0675061 , 153.60926798, 154.32358824,\n",
       "       136.34766365, 188.3280653 , 175.61987101, 168.89897492,\n",
       "       159.2443038 , 127.64757059, 133.13343525, 143.60714202,\n",
       "       142.10043973, 174.60554876, 128.34766814, 137.68983963,\n",
       "       137.21079687, 142.31038786, 137.18257934, 151.85795557,\n",
       "       127.8190687 , 156.46019116, 172.03134336, 165.65015422,\n",
       "       144.29749902, 131.67917591, 139.98019968, 177.04231061,\n",
       "       150.17107482, 134.28646824, 157.99132974, 199.85280924,\n",
       "       142.84892643, 168.20316651, 176.6612396 , 128.24343381,\n",
       "       118.84791709, 134.20736955, 143.03113812, 177.96095468,\n",
       "       166.91319504, 161.67510567, 161.92978155, 161.70477797,\n",
       "       146.1461628 , 178.11003351, 174.14639037, 137.42470087,\n",
       "       190.07893405, 156.73441199, 179.17838927, 179.88445185,\n",
       "       186.45553694, 113.39238651, 119.75795063, 131.93798489,\n",
       "       156.02749851, 159.2624041 , 162.52352595, 119.11719272,\n",
       "       136.81751467, 178.48635353, 152.22247535, 176.79310247,\n",
       "       149.93510062, 157.20812184, 143.76102986, 157.13309308,\n",
       "       168.48028701, 146.19980444, 116.21474202, 138.12538391,\n",
       "       127.37201889, 151.44803894, 169.86196597, 166.48840918,\n",
       "       138.0720082 , 140.46066539, 157.36997218, 151.63229082,\n",
       "       141.44093809, 149.13013369, 142.21162412, 152.20081397])"
      ]
     },
     "execution_count": 11,
     "metadata": {},
     "output_type": "execute_result"
    }
   ],
   "source": [
    "data2 = data + (10*randn(100) + 50)\n",
    "data2"
   ]
  },
  {
   "cell_type": "code",
   "execution_count": 12,
   "metadata": {},
   "outputs": [],
   "source": [
    "#to check the mean and standard deviation of the above two randomly generated data"
   ]
  },
  {
   "cell_type": "code",
   "execution_count": 14,
   "metadata": {},
   "outputs": [
    {
     "name": "stdout",
     "output_type": "stream",
     "text": [
      "data: mean=101.211657 stdv=21.111 \n"
     ]
    }
   ],
   "source": [
    "print('data: mean=%3f stdv=%.3f ' %(mean(data) , std(data2)))"
   ]
  },
  {
   "cell_type": "code",
   "execution_count": 15,
   "metadata": {},
   "outputs": [],
   "source": [
    "#to plot the above data OR #to have a graphical representation of the data"
   ]
  },
  {
   "cell_type": "code",
   "execution_count": 20,
   "metadata": {},
   "outputs": [
    {
     "data": {
      "image/png": "[encoded data removed]",
      "text/plain": [
       "<Figure size 432x288 with 1 Axes>"
      ]
     },
     "metadata": {
      "needs_background": "light"
     },
     "output_type": "display_data"
    }
   ],
   "source": [
    "plt.scatter(data , data2)\n",
    "plt.show()"
   ]
  },
  {
   "cell_type": "code",
   "execution_count": 21,
   "metadata": {},
   "outputs": [],
   "source": [
    "#add x and y labels and title"
   ]
  },
  {
   "cell_type": "code",
   "execution_count": 24,
   "metadata": {},
   "outputs": [
    {
     "data": {
      "image/png": "[encoded data removed]",
      "text/plain": [
       "<Figure size 432x288 with 1 Axes>"
      ]
     },
     "metadata": {
      "needs_background": "light"
     },
     "output_type": "display_data"
    }
   ],
   "source": [
    "plt.scatter(data , data2)\n",
    "plt.title('Scatter plot of random generated data')\n",
    "plt.xlabel('data')\n",
    "plt.ylabel('second_data')\n",
    "plt.show()"
   ]
  },
  {
   "cell_type": "markdown",
   "metadata": {},
   "source": [
    "#TO CALCULATE CORRELATION\n"
   ]
  },
  {
   "cell_type": "code",
   "execution_count": 25,
   "metadata": {},
   "outputs": [],
   "source": [
    "#importing libraries\n",
    "import numpy as np\n",
    "np.random.seed(2)"
   ]
  },
  {
   "cell_type": "code",
   "execution_count": 28,
   "metadata": {},
   "outputs": [
    {
     "data": {
      "text/plain": [
       "array([49, 27,  3, 15,  2, 22,  5,  5, 18, 37, 29, 12, 28,  6, 49, 44,  5,\n",
       "       16,  5, 26, 19, 39, 37, 25, 36, 15, 21, 18, 22, 29, 14,  0,  5, 23,\n",
       "       33, 38,  7, 32, 49, 18, 29, 15, 45, 28, 20, 26, 16,  6, 38, 24,  6,\n",
       "       43, 21, 49, 21, 41, 36, 41, 40, 19,  4, 34, 12, 15, 47, 39, 21,  1,\n",
       "       45, 28, 23, 36, 17, 18, 28, 27, 42, 38, 10, 26, 45, 33,  2, 38, 32,\n",
       "       21, 12, 19, 18,  8, 11, 41, 23, 27, 16,  4, 47, 12, 34, 23])"
      ]
     },
     "execution_count": 28,
     "metadata": {},
     "output_type": "execute_result"
    }
   ],
   "source": [
    "#100 random intergers between 0 and 50\n",
    "x = np.random.randint(0,50,100)\n",
    "x"
   ]
  },
  {
   "cell_type": "code",
   "execution_count": 30,
   "metadata": {},
   "outputs": [
    {
     "data": {
      "text/plain": [
       "array([ 52.98384997,  32.92689131,  16.26648891,   7.82049116,\n",
       "       -22.79795015,  23.57536845,  12.53007726,  -0.97886295,\n",
       "        24.96627544,  43.356585  ,  32.80321617,   0.1783891 ,\n",
       "        34.00744915,   3.69955417,  61.56429661,  30.70532178,\n",
       "         6.48507879,  14.88493301,   9.42655025,  30.24347001,\n",
       "        30.93262354,  45.62805195,  44.10367615,  29.42477673,\n",
       "        35.94401161,  19.37983274,  32.0931017 ,   4.71158199,\n",
       "        23.5063729 ,  24.63966782,  21.64331833,  22.64189206,\n",
       "         2.13712548,  28.37776289,  29.39378327,  60.73708414,\n",
       "         4.755687  ,  52.33058192,  51.91036607,  12.71519154,\n",
       "        19.11657713,  23.14515598,  33.47761456,  33.4015116 ,\n",
       "         1.66944199,  40.18809763,  33.71636708,   5.17871856,\n",
       "        49.18901574,  22.75399104,  -1.6950681 ,  32.81154137,\n",
       "        35.7531751 ,  50.79382643,  33.59406327,  47.55777873,\n",
       "        40.83088464,  50.63023818,  36.79891563,  14.86926421,\n",
       "        14.86326155,  30.33420859,  11.86712882,   9.56244024,\n",
       "        32.84435984,  46.69623324,  43.29839706, -16.30106757,\n",
       "        49.11193861,  30.49612638,  18.97366619,  32.76834221,\n",
       "        15.46955625,  -1.32493836,  14.79462801,  28.54323789,\n",
       "        39.59628905,  33.65556572,   3.26452777,  24.47825231,\n",
       "        39.88786082,  34.41052155,  -7.69818029,  31.62487679,\n",
       "        44.30940988,   7.14099103,  22.27171864,  24.46526164,\n",
       "        40.73588548,   0.15872907,   7.81066998,  37.82023858,\n",
       "        29.1749121 ,  28.64690001,  12.32176929,  -6.44214061,\n",
       "        36.86928674,  12.59755466,  31.33809169,  25.97612849])"
      ]
     },
     "execution_count": 30,
     "metadata": {},
     "output_type": "execute_result"
    }
   ],
   "source": [
    "y = x + np.random.normal(0,10,100)\n",
    "y"
   ]
  },
  {
   "cell_type": "code",
   "execution_count": 31,
   "metadata": {},
   "outputs": [
    {
     "data": {
      "text/plain": [
       "array([[1.        , 0.82712657],\n",
       "       [0.82712657, 1.        ]])"
      ]
     },
     "execution_count": 31,
     "metadata": {},
     "output_type": "execute_result"
    }
   ],
   "source": [
    "np.corrcoef(x,y)"
   ]
  },
  {
   "cell_type": "code",
   "execution_count": 32,
   "metadata": {},
   "outputs": [],
   "source": [
    "#Since the correlation is 0.8 , hence it is the positive / strong correlation btw the 2 random generated data"
   ]
  },
  {
   "cell_type": "code",
   "execution_count": 33,
   "metadata": {},
   "outputs": [],
   "source": [
    "#to visualize the above Random generated data "
   ]
  },
  {
   "cell_type": "code",
   "execution_count": 35,
   "metadata": {},
   "outputs": [],
   "source": [
    "import matplotlib\n",
    "import matplotlib.pyplot as plt\n",
    "%matplotlib inline\n",
    "matplotlib.style.use('ggplot')"
   ]
  },
  {
   "cell_type": "code",
   "execution_count": 38,
   "metadata": {},
   "outputs": [],
   "source": [
    "#To plot the correlation we use scatter plot"
   ]
  },
  {
   "cell_type": "code",
   "execution_count": 39,
   "metadata": {},
   "outputs": [
    {
     "data": {
      "image/png": "[encoded data removed]",
      "text/plain": [
       "<Figure size 432x288 with 1 Axes>"
      ]
     },
     "metadata": {},
     "output_type": "display_data"
    }
   ],
   "source": [
    "plt.scatter(x,y)\n",
    "plt.show()"
   ]
  },
  {
   "cell_type": "code",
   "execution_count": 40,
   "metadata": {},
   "outputs": [],
   "source": [
    "#In order to calculate negative correlation"
   ]
  },
  {
   "cell_type": "code",
   "execution_count": 42,
   "metadata": {},
   "outputs": [
    {
     "data": {
      "text/plain": [
       "array([12, 42, 44, 48, 45, 13, 54, 19, 10, 37, 10, 41, 19, 39, 13,  7, 52,\n",
       "        0, 44, 56, 32, 42, 13, 56, 24, 16, 23, 32, 45, 56, 56,  1,  6,  5,\n",
       "       39, 51,  5,  2, 59,  9, 35, 17, 28, 19, 30, 33, 14,  3, 19, 44, 11,\n",
       "       13,  5, 20, 11,  2, 48, 58, 10, 34, 57, 12, 46,  5, 30, 10,  5, 57,\n",
       "       24, 52, 34, 11,  0, 48, 11, 27, 47, 17, 10, 36, 27, 56,  6,  8,  6,\n",
       "       52, 19, 50, 39, 52, 58, 19, 25, 16, 34, 51, 31,  0, 17,  1, 41, 22,\n",
       "       50, 33, 21, 51, 52, 58, 39, 46, 33, 33, 49, 25, 38, 57, 55, 27, 42,\n",
       "        2, 50, 13,  9, 59,  2,  7,  1, 47, 41, 40, 56, 34, 27, 30, 56, 18,\n",
       "       57, 28, 18, 25, 14, 22, 41, 22, 59, 39, 58, 59, 16, 55,  1, 59, 39,\n",
       "       49,  6, 44, 25, 35, 46, 49, 38, 37, 14, 50, 34, 53, 58,  1,  6, 11,\n",
       "       56, 26, 16, 42, 23, 17, 37, 16, 28, 30, 20, 26, 32, 29, 46, 56, 55,\n",
       "       41,  0, 27, 42, 18, 43, 27, 44, 23,  6, 27, 51, 29])"
      ]
     },
     "execution_count": 42,
     "metadata": {},
     "output_type": "execute_result"
    }
   ],
   "source": [
    "a= np.random.randint(0,60,200)\n",
    "a"
   ]
  },
  {
   "cell_type": "code",
   "execution_count": 47,
   "metadata": {},
   "outputs": [
    {
     "data": {
      "text/plain": [
       "array([132,  93,  62,  59,  95, 129,  81, 113, 122,  95, 124,  97, 115,\n",
       "        84,  98, 105,  69, 118,  59,  66, 115,  89, 117,  67, 100, 133,\n",
       "       116,  85,  76,  67,  59, 102, 132, 137,  81,  75,  96, 103,  90,\n",
       "        96,  67, 120,  99,  97,  81, 105, 107,  99, 129,  58, 116, 131,\n",
       "        98, 113, 111, 133,  67,  77, 116, 103,  65, 124,  56, 114, 107,\n",
       "       129, 116,  63,  85,  92, 102, 110, 148,  54, 118,  99, 100, 102,\n",
       "        92,  93,  86,  66, 112,  97, 129,  68,  85,  54, 104,  73,  54,\n",
       "       128,  91,  89,  81,  82, 109, 122,  88, 125,  77, 112,  51, 101,\n",
       "       125,  75,  93,  69, 102,  54, 115,  83,  58,  88,  70,  77,  47,\n",
       "        84,  99, 108,  97, 125, 112,  58, 134, 108, 123,  80, 103,  75,\n",
       "        84,  80, 112,  74,  58, 124,  48,  84,  83,  79, 133, 121,  88,\n",
       "        81,  57, 104,  61,  90, 109,  45, 120,  79, 102,  84, 111,  80,\n",
       "        97,  78,  95,  67, 105,  80, 101,  64,  84,  59,  82, 142, 129,\n",
       "       109,  48,  90, 119,  99,  89,  91, 104,  85, 102, 111, 116,  84,\n",
       "       103, 120,  95,  88,  86,  84, 131,  78,  92,  87,  92, 105,  77,\n",
       "       122, 129, 119,  89,  85])"
      ]
     },
     "execution_count": 47,
     "metadata": {},
     "output_type": "execute_result"
    }
   ],
   "source": [
    "b= 100-a + np.random.randint(0,50,200)\n",
    "b"
   ]
  },
  {
   "cell_type": "code",
   "execution_count": 49,
   "metadata": {},
   "outputs": [
    {
     "data": {
      "text/plain": [
       "array([[ 1.        , -0.77433687],\n",
       "       [-0.77433687,  1.        ]])"
      ]
     },
     "execution_count": 49,
     "metadata": {},
     "output_type": "execute_result"
    }
   ],
   "source": [
    "np.corrcoef(a,b)"
   ]
  },
  {
   "cell_type": "code",
   "execution_count": 50,
   "metadata": {},
   "outputs": [],
   "source": [
    "#You can notice that here the value is negative and hence it gives a negative correlation"
   ]
  },
  {
   "cell_type": "code",
   "execution_count": 51,
   "metadata": {},
   "outputs": [
    {
     "data": {
      "image/png": "[encoded data removed]",
      "text/plain": [
       "<Figure size 432x288 with 1 Axes>"
      ]
     },
     "metadata": {},
     "output_type": "display_data"
    }
   ],
   "source": [
    "plt.scatter(a,b)\n",
    "plt.show()"
   ]
  },
  {
   "cell_type": "code",
   "execution_count": 52,
   "metadata": {},
   "outputs": [],
   "source": [
    "#To get the weak or no correlation"
   ]
  },
  {
   "cell_type": "code",
   "execution_count": 54,
   "metadata": {},
   "outputs": [
    {
     "data": {
      "image/png": "[encoded data removed]",
      "text/plain": [
       "<Figure size 432x288 with 1 Axes>"
      ]
     },
     "metadata": {},
     "output_type": "display_data"
    }
   ],
   "source": [
    "p = np.random.randint(0, 50, 1000)\n",
    "q = np.random.randint(0, 50, 1000)\n",
    "np.corrcoef(p,q)\n",
    "plt.scatter(p,q)\n",
    "plt.show()"
   ]
  },
  {
   "cell_type": "code",
   "execution_count": 55,
   "metadata": {},
   "outputs": [],
   "source": [
    "#To get the correlation Matrix"
   ]
  },
  {
   "cell_type": "code",
   "execution_count": 59,
   "metadata": {},
   "outputs": [
    {
     "data": {
      "text/html": [
       "<div>\n",
       "<style scoped>\n",
       "    .dataframe tbody tr th:only-of-type {\n",
       "        vertical-align: middle;\n",
       "    }\n",
       "\n",
       "    .dataframe tbody tr th {\n",
       "        vertical-align: top;\n",
       "    }\n",
       "\n",
       "    .dataframe thead th {\n",
       "        text-align: right;\n",
       "    }\n",
       "</style>\n",
       "<table border=\"1\" class=\"dataframe\">\n",
       "  <thead>\n",
       "    <tr style=\"text-align: right;\">\n",
       "      <th></th>\n",
       "      <th>a</th>\n",
       "      <th>b</th>\n",
       "      <th>c</th>\n",
       "      <th>d</th>\n",
       "    </tr>\n",
       "  </thead>\n",
       "  <tbody>\n",
       "    <tr>\n",
       "      <th>0</th>\n",
       "      <td>5</td>\n",
       "      <td>22.411864</td>\n",
       "      <td>90.033334</td>\n",
       "      <td>49</td>\n",
       "    </tr>\n",
       "    <tr>\n",
       "      <th>1</th>\n",
       "      <td>45</td>\n",
       "      <td>60.653383</td>\n",
       "      <td>55.150046</td>\n",
       "      <td>41</td>\n",
       "    </tr>\n",
       "    <tr>\n",
       "      <th>2</th>\n",
       "      <td>24</td>\n",
       "      <td>18.094557</td>\n",
       "      <td>78.965905</td>\n",
       "      <td>15</td>\n",
       "    </tr>\n",
       "    <tr>\n",
       "      <th>3</th>\n",
       "      <td>35</td>\n",
       "      <td>29.123968</td>\n",
       "      <td>64.190332</td>\n",
       "      <td>4</td>\n",
       "    </tr>\n",
       "    <tr>\n",
       "      <th>4</th>\n",
       "      <td>29</td>\n",
       "      <td>29.161772</td>\n",
       "      <td>72.545201</td>\n",
       "      <td>48</td>\n",
       "    </tr>\n",
       "    <tr>\n",
       "      <th>...</th>\n",
       "      <td>...</td>\n",
       "      <td>...</td>\n",
       "      <td>...</td>\n",
       "      <td>...</td>\n",
       "    </tr>\n",
       "    <tr>\n",
       "      <th>995</th>\n",
       "      <td>2</td>\n",
       "      <td>-5.637820</td>\n",
       "      <td>109.584780</td>\n",
       "      <td>42</td>\n",
       "    </tr>\n",
       "    <tr>\n",
       "      <th>996</th>\n",
       "      <td>10</td>\n",
       "      <td>13.146663</td>\n",
       "      <td>89.967979</td>\n",
       "      <td>32</td>\n",
       "    </tr>\n",
       "    <tr>\n",
       "      <th>997</th>\n",
       "      <td>2</td>\n",
       "      <td>4.880085</td>\n",
       "      <td>84.667260</td>\n",
       "      <td>37</td>\n",
       "    </tr>\n",
       "    <tr>\n",
       "      <th>998</th>\n",
       "      <td>47</td>\n",
       "      <td>49.125680</td>\n",
       "      <td>55.816342</td>\n",
       "      <td>28</td>\n",
       "    </tr>\n",
       "    <tr>\n",
       "      <th>999</th>\n",
       "      <td>22</td>\n",
       "      <td>38.979078</td>\n",
       "      <td>72.910308</td>\n",
       "      <td>1</td>\n",
       "    </tr>\n",
       "  </tbody>\n",
       "</table>\n",
       "<p>1000 rows × 4 columns</p>\n",
       "</div>"
      ],
      "text/plain": [
       "      a          b           c   d\n",
       "0     5  22.411864   90.033334  49\n",
       "1    45  60.653383   55.150046  41\n",
       "2    24  18.094557   78.965905  15\n",
       "3    35  29.123968   64.190332   4\n",
       "4    29  29.161772   72.545201  48\n",
       "..   ..        ...         ...  ..\n",
       "995   2  -5.637820  109.584780  42\n",
       "996  10  13.146663   89.967979  32\n",
       "997   2   4.880085   84.667260  37\n",
       "998  47  49.125680   55.816342  28\n",
       "999  22  38.979078   72.910308   1\n",
       "\n",
       "[1000 rows x 4 columns]"
      ]
     },
     "execution_count": 59,
     "metadata": {},
     "output_type": "execute_result"
    }
   ],
   "source": [
    "import pandas as pd\n",
    "\n",
    "dataframe = pd.DataFrame ({'a': np.random.randint(0,50,1000)})\n",
    "dataframe['b']= dataframe['a'] +np.random.normal(0,10,1000) #Positively correlated with a\n",
    "dataframe['c']=100-dataframe['a']+np.random.normal(0,5, 1000) #Negatively correlated with a \n",
    "dataframe['d']= np.random.randint(0,50,1000) #Not correlated with a\n",
    "\n",
    "dataframe"
   ]
  },
  {
   "cell_type": "code",
   "execution_count": 63,
   "metadata": {},
   "outputs": [
    {
     "data": {
      "image/png": "[encoded data removed]",
      "text/plain": [
       "<Figure size 288x288 with 2 Axes>"
      ]
     },
     "metadata": {},
     "output_type": "display_data"
    }
   ],
   "source": [
    "plt.matshow(dataframe.corr())\n",
    "plt.xticks(range(len(dataframe.columns)), dataframe.columns)\n",
    "plt.yticks(range(len(dataframe.columns)), dataframe.columns)\n",
    "plt.colorbar()\n",
    "plt.show()"
   ]
  },
  {
   "cell_type": "markdown",
   "metadata": {},
   "source": [
    "    # Nominal category is unordered\n",
    "    i.e sex, nationality , colors"
   ]
  },
  {
   "cell_type": "code",
   "execution_count": 64,
   "metadata": {},
   "outputs": [
    {
     "data": {
      "text/plain": [
       "0    2\n",
       "1    4\n",
       "2    1\n",
       "3    5\n",
       "4    0\n",
       "5    3\n",
       "dtype: int8"
      ]
     },
     "execution_count": 64,
     "metadata": {},
     "output_type": "execute_result"
    }
   ],
   "source": [
    "import pandas as pd\n",
    "df= pd.DataFrame ({'Subjects':['Fluid Dynamics' , 'Mathematics', 'Cryptography' , 'Science' , 'Algebra' , 'Geometry']})\n",
    "df.Subjects.astype('category').cat.codes"
   ]
  },
  {
   "cell_type": "code",
   "execution_count": 65,
   "metadata": {},
   "outputs": [],
   "source": [
    "#Ordinal data"
   ]
  },
  {
   "cell_type": "code",
   "execution_count": 66,
   "metadata": {},
   "outputs": [],
   "source": [
    "ordered_satisfaction= ['Very happy' , 'Unhappy' , 'Happy' , 'Sad' , 'aggressive', 'Unsatisfied']\n",
    "df= pd.DataFrame({'satisfaction': ['mad', 'happy', 'unhappy', 'neutral']})\n"
   ]
  },
  {
   "cell_type": "code",
   "execution_count": 69,
   "metadata": {},
   "outputs": [
    {
     "ename": "TypeError",
     "evalue": "astype() got an unexpected keyword argument 'ordered'",
     "output_type": "error",
     "traceback": [
      "\u001b[1;31m---------------------------------------------------------------------------\u001b[0m",
      "\u001b[1;31mTypeError\u001b[0m                                 Traceback (most recent call last)",
      "\u001b[1;32m<ipython-input-69-653426815801>\u001b[0m in \u001b[0;36m<module>\u001b[1;34m\u001b[0m\n\u001b[0;32m      1\u001b[0m df.satisfaction.astype(\"category\",\n\u001b[0;32m      2\u001b[0m   \u001b[0mordered\u001b[0m\u001b[1;33m=\u001b[0m\u001b[1;32mTrue\u001b[0m\u001b[1;33m,\u001b[0m\u001b[1;33m\u001b[0m\u001b[1;33m\u001b[0m\u001b[0m\n\u001b[1;32m----> 3\u001b[1;33m   \u001b[0mcategories\u001b[0m\u001b[1;33m=\u001b[0m\u001b[0mordered_satisfaction\u001b[0m\u001b[1;33m\u001b[0m\u001b[1;33m\u001b[0m\u001b[0m\n\u001b[0m\u001b[0;32m      4\u001b[0m )\n",
      "\u001b[1;31mTypeError\u001b[0m: astype() got an unexpected keyword argument 'ordered'"
     ]
    }
   ],
   "source": [
    "df.satisfaction.astype(\"category\",\n",
    "  ordered=True,\n",
    "  categories=ordered_satisfaction\n",
    ")"
   ]
  },
  {
   "cell_type": "code",
   "execution_count": null,
   "metadata": {},
   "outputs": [],
   "source": []
  }
 ],
 "metadata": {
  "kernelspec": {
   "display_name": "Python 3",
   "language": "python",
   "name": "python3"
  },
  "language_info": {
   "codemirror_mode": {
    "name": "ipython",
    "version": 3
   },
   "file_extension": ".py",
   "mimetype": "text/x-python",
   "name": "python",
   "nbconvert_exporter": "python",
   "pygments_lexer": "ipython3",
   "version": "3.7.4"
  }
 },
 "nbformat": 4,
 "nbformat_minor": 4
}
